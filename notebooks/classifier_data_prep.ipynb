{
 "cells": [
  {
   "cell_type": "code",
   "execution_count": 1,
   "metadata": {},
   "outputs": [],
   "source": [
    "import mysql.connector as mysql\n",
    "import pandas as pd\n",
    "\n",
    "db = mysql.connect(\n",
    "    host = \"localhost\",\n",
    "    port = '3306',\n",
    "    user = \"local\",\n",
    "    password = \"local\",\n",
    "    database = \"mail_data\"\n",
    ")"
   ]
  },
  {
   "cell_type": "code",
   "execution_count": null,
   "metadata": {},
   "outputs": [],
   "source": [
    "cursor = db.cursor()\n",
    "command = f\"SELECT * FROM mails\"\n",
    "cursor.execute(command)\n",
    "df = pd.DataFrame(cursor.fetchall(), columns = ['id', 'message_id', 'label_ids', 'date', 'sender', 'subject', 'body', 'category', 'action'])\n",
    "\n",
    "# save the dataframe to a csv file\n",
    "df.to_csv('../mount/mails.csv')\n",
    "\n",
    "cursor.close()"
   ]
  },
  {
   "cell_type": "code",
   "execution_count": null,
   "metadata": {},
   "outputs": [],
   "source": [
    "df = pd.read_csv('../mount/mails.csv')\n",
    "print(df.shape)\n",
    "df.drop_duplicates(subset = 'message_id', keep = 'first', inplace = True)\n",
    "print(df.shape)"
   ]
  },
  {
   "cell_type": "code",
   "execution_count": null,
   "metadata": {},
   "outputs": [],
   "source": [
    "print(df['subject'].isnull().sum())\n",
    "print(df['category'].isnull().sum())\n",
    "print(df['action'].isnull().sum())"
   ]
  },
  {
   "cell_type": "code",
   "execution_count": null,
   "metadata": {},
   "outputs": [],
   "source": [
    "df = df.dropna(subset=['subject'])\n",
    "print(df.shape)"
   ]
  },
  {
   "cell_type": "code",
   "execution_count": null,
   "metadata": {},
   "outputs": [],
   "source": [
    "df.columns"
   ]
  },
  {
   "cell_type": "code",
   "execution_count": 12,
   "metadata": {},
   "outputs": [],
   "source": [
    "df = df[['message_id', 'subject', 'category', 'action']]"
   ]
  },
  {
   "cell_type": "code",
   "execution_count": null,
   "metadata": {},
   "outputs": [],
   "source": [
    "df"
   ]
  },
  {
   "cell_type": "code",
   "execution_count": 38,
   "metadata": {},
   "outputs": [],
   "source": [
    "from collections import Counter as counter\n",
    "words = counter(df['subject'].str.cat(sep = ' ').split())"
   ]
  },
  {
   "cell_type": "code",
   "execution_count": null,
   "metadata": {},
   "outputs": [],
   "source": [
    "words.most_common(40)"
   ]
  },
  {
   "cell_type": "markdown",
   "metadata": {},
   "source": [
    "### Note:\n",
    "As the corpus is a small one and consists of personal mails from recurring senders with similar topics, applying a simple word frequency representation of the words would severly overfit the model"
   ]
  },
  {
   "cell_type": "markdown",
   "metadata": {},
   "source": [
    "# Preprocessing Text"
   ]
  },
  {
   "cell_type": "code",
   "execution_count": null,
   "metadata": {},
   "outputs": [],
   "source": [
    "import re \n",
    "\n",
    "def preprocess(text):\n",
    "    assert type(text) == str, f\"input {text} is not a string and has type {type(text)}\"\n",
    "    text = text.lower() # lowercase\n",
    "    text = re.sub(r'[^\\w\\s]', '', text) # remove punctuation\n",
    "    text = re.sub(r'\\d+', '', text) # remove numbers\n",
    "    text = text.strip() # remove whitespaces\n",
    "    return text\n",
    "\n",
    "df['subject'] = df['subject'].apply(preprocess)\n",
    "df"
   ]
  },
  {
   "cell_type": "code",
   "execution_count": null,
   "metadata": {},
   "outputs": [],
   "source": [
    "df.groupby(by='action')['message_id'].count()"
   ]
  },
  {
   "cell_type": "code",
   "execution_count": null,
   "metadata": {},
   "outputs": [],
   "source": [
    "df.groupby(by='category').count()"
   ]
  },
  {
   "cell_type": "markdown",
   "metadata": {},
   "source": [
    "### Note:\n",
    "as many categories have very small frequencies, for a better training and results, certain categories have to be clubbed together.\n",
    "<br><br>\n",
    "In Actions classes would be: {'READ': ['READ'], 'IGNORE': ['IGNORE'], 'ACT': ['URGENT'. 'RESPOND', 'ACT', 'IMPORTANT']}\n",
    "<br><br>\n",
    "Ic category, the classes would be: {'Education': ['Education'], 'Newsletters': ['Newsletters', 'News'], 'Personal': ['Personal'], 'Promotions': ['Promotions'], 'Social': ['Social', 'Forums'], 'Work':['Work'], 'Unknown': ['Unknown', 'Security']}"
   ]
  },
  {
   "cell_type": "code",
   "execution_count": 54,
   "metadata": {},
   "outputs": [],
   "source": [
    "action_classes = {'READ': 'READ',\n",
    "                  'IGNORE': 'IGNORE',\n",
    "                  'URGENT': 'ACT',\n",
    "                  'ACT': 'ACT',\n",
    "                  'RESPOND': 'ACT',\n",
    "                  'IMPORTANT': 'ACT'}\n",
    "category_classes = {'Education': 'Education',\n",
    "                    'Newsletters': 'Newsletters',\n",
    "                    'News': 'Newsletters',\n",
    "                    'Personal': 'Personal',\n",
    "                    'Promotions': 'Promotions',\n",
    "                    'Social': 'Social',\n",
    "                    'Forums': 'Social',\n",
    "                    'Work': 'Work',\n",
    "                    'Unknown': 'Unknown',\n",
    "                    'Security': 'Unknown'}\n",
    "\n",
    "def apply_action_class(action):\n",
    "    return action_classes[action]\n",
    "def apply_category_class(category):\n",
    "    return category_classes[category]\n",
    "\n",
    "final_df = df[:]\n",
    "final_df['action'] = final_df['action'].apply(apply_action_class)\n",
    "final_df['category'] = final_df['category'].apply(apply_category_class)"
   ]
  },
  {
   "cell_type": "code",
   "execution_count": null,
   "metadata": {},
   "outputs": [],
   "source": [
    "final_df"
   ]
  },
  {
   "cell_type": "code",
   "execution_count": 60,
   "metadata": {},
   "outputs": [],
   "source": [
    "final_df.to_csv('../mount/mails_processed.csv')"
   ]
  },
  {
   "cell_type": "markdown",
   "metadata": {},
   "source": [
    "## Train-test split: \n",
    "Create two separate datasets 95 / 5 split for train / test "
   ]
  },
  {
   "cell_type": "code",
   "execution_count": 4,
   "metadata": {},
   "outputs": [],
   "source": [
    "from sklearn.model_selection import train_test_split \n",
    "import pandas as pd"
   ]
  },
  {
   "cell_type": "code",
   "execution_count": 46,
   "metadata": {},
   "outputs": [],
   "source": [
    "df = pd.read_csv('../mount/mails_processed.csv')\n",
    "\n",
    "train_df, test_action_df = train_test_split(df, test_size=0.025, stratify=df['action'])\n",
    "train_df, test_category_df = train_test_split(df, test_size=0.025, stratify=df['category'])\n",
    "\n",
    "test_df = pd.concat((test_action_df, test_category_df), ignore_index=True)"
   ]
  },
  {
   "cell_type": "code",
   "execution_count": null,
   "metadata": {},
   "outputs": [],
   "source": [
    "train_df.groupby(by='category').count()"
   ]
  },
  {
   "cell_type": "code",
   "execution_count": null,
   "metadata": {},
   "outputs": [],
   "source": [
    "test_df.groupby(by='category').count()"
   ]
  },
  {
   "cell_type": "code",
   "execution_count": 52,
   "metadata": {},
   "outputs": [],
   "source": [
    "train_df.to_csv(f'../mount/train_data.csv')\n",
    "test_df.to_csv(f'../mount/test_data.csv')"
   ]
  },
  {
   "cell_type": "code",
   "execution_count": null,
   "metadata": {},
   "outputs": [],
   "source": []
  }
 ],
 "metadata": {
  "kernelspec": {
   "display_name": ".venv",
   "language": "python",
   "name": "python3"
  },
  "language_info": {
   "codemirror_mode": {
    "name": "ipython",
    "version": 3
   },
   "file_extension": ".py",
   "mimetype": "text/x-python",
   "name": "python",
   "nbconvert_exporter": "python",
   "pygments_lexer": "ipython3",
   "version": "3.10.11"
  }
 },
 "nbformat": 4,
 "nbformat_minor": 2
}
